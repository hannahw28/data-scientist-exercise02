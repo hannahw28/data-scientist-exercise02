{
 "cells": [
  {
   "cell_type": "code",
   "execution_count": 1,
   "id": "47e74995",
   "metadata": {},
   "outputs": [],
   "source": [
    "import pandas as pd\n",
    "import os, json\n",
    "import numpy as np\n",
    "import nltk\n",
    "from datetime import datetime\n",
    "import math\n",
    "from sklearn.feature_extraction.text import CountVectorizer\n",
    "from sklearn.decomposition import LatentDirichletAllocation\n",
    "from sklearn.feature_extraction.text import TfidfVectorizer\n",
    "from sklearn.decomposition import NMF\n",
    "import seaborn as sns; sns.set_theme()\n",
    "import matplotlib.pyplot as plt"
   ]
  },
  {
   "cell_type": "markdown",
   "id": "f0efa3ab",
   "metadata": {},
   "source": [
    "# A summary of the overall analyses is provided at the end of the file"
   ]
  },
  {
   "cell_type": "markdown",
   "id": "26af29dd",
   "metadata": {},
   "source": [
    "# LOAD DATA + EXPLORATORY ANALYSIS"
   ]
  },
  {
   "cell_type": "code",
   "execution_count": 2,
   "id": "b7cb8fc7",
   "metadata": {},
   "outputs": [
    {
     "data": {
      "text/html": [
       "<div>\n",
       "<style scoped>\n",
       "    .dataframe tbody tr th:only-of-type {\n",
       "        vertical-align: middle;\n",
       "    }\n",
       "\n",
       "    .dataframe tbody tr th {\n",
       "        vertical-align: top;\n",
       "    }\n",
       "\n",
       "    .dataframe thead th {\n",
       "        text-align: right;\n",
       "    }\n",
       "</style>\n",
       "<table border=\"1\" class=\"dataframe\">\n",
       "  <thead>\n",
       "    <tr style=\"text-align: right;\">\n",
       "      <th></th>\n",
       "      <th>EventId</th>\n",
       "      <th>InvestigationType</th>\n",
       "      <th>AccidentNumber</th>\n",
       "      <th>EventDate</th>\n",
       "      <th>Location</th>\n",
       "      <th>Country</th>\n",
       "      <th>Latitude</th>\n",
       "      <th>Longitude</th>\n",
       "      <th>AirportCode</th>\n",
       "      <th>AirportName</th>\n",
       "      <th>...</th>\n",
       "      <th>PurposeOfFlight</th>\n",
       "      <th>AirCarrier</th>\n",
       "      <th>TotalFatalInjuries</th>\n",
       "      <th>TotalSeriousInjuries</th>\n",
       "      <th>TotalMinorInjuries</th>\n",
       "      <th>TotalUninjured</th>\n",
       "      <th>WeatherCondition</th>\n",
       "      <th>BroadPhaseOfFlight</th>\n",
       "      <th>ReportStatus</th>\n",
       "      <th>PublicationDate</th>\n",
       "    </tr>\n",
       "  </thead>\n",
       "  <tbody>\n",
       "    <tr>\n",
       "      <th>0</th>\n",
       "      <td>20150901X74304</td>\n",
       "      <td>Accident</td>\n",
       "      <td>GAA15CA244</td>\n",
       "      <td>09/01/2015</td>\n",
       "      <td>Truckee, CA</td>\n",
       "      <td>United States</td>\n",
       "      <td>NaN</td>\n",
       "      <td>NaN</td>\n",
       "      <td>NaN</td>\n",
       "      <td>NaN</td>\n",
       "      <td>...</td>\n",
       "      <td>NaN</td>\n",
       "      <td>NaN</td>\n",
       "      <td>NaN</td>\n",
       "      <td>NaN</td>\n",
       "      <td>NaN</td>\n",
       "      <td>NaN</td>\n",
       "      <td>NaN</td>\n",
       "      <td>NaN</td>\n",
       "      <td>Preliminary</td>\n",
       "      <td>NaN</td>\n",
       "    </tr>\n",
       "    <tr>\n",
       "      <th>1</th>\n",
       "      <td>20150901X92332</td>\n",
       "      <td>Accident</td>\n",
       "      <td>CEN15LA392</td>\n",
       "      <td>08/31/2015</td>\n",
       "      <td>Houston, TX</td>\n",
       "      <td>United States</td>\n",
       "      <td>29.809444</td>\n",
       "      <td>-95.668889</td>\n",
       "      <td>IWS</td>\n",
       "      <td>WEST HOUSTON</td>\n",
       "      <td>...</td>\n",
       "      <td>Instructional</td>\n",
       "      <td>NaN</td>\n",
       "      <td>NaN</td>\n",
       "      <td>NaN</td>\n",
       "      <td>NaN</td>\n",
       "      <td>2.0</td>\n",
       "      <td>VMC</td>\n",
       "      <td>LANDING</td>\n",
       "      <td>Preliminary</td>\n",
       "      <td>09/04/2015</td>\n",
       "    </tr>\n",
       "  </tbody>\n",
       "</table>\n",
       "<p>2 rows × 31 columns</p>\n",
       "</div>"
      ],
      "text/plain": [
       "          EventId InvestigationType AccidentNumber   EventDate     Location  \\\n",
       "0  20150901X74304          Accident     GAA15CA244  09/01/2015  Truckee, CA   \n",
       "1  20150901X92332          Accident     CEN15LA392  08/31/2015  Houston, TX   \n",
       "\n",
       "         Country   Latitude  Longitude AirportCode   AirportName  ...  \\\n",
       "0  United States        NaN        NaN         NaN           NaN  ...   \n",
       "1  United States  29.809444 -95.668889         IWS  WEST HOUSTON  ...   \n",
       "\n",
       "  PurposeOfFlight AirCarrier TotalFatalInjuries TotalSeriousInjuries  \\\n",
       "0             NaN        NaN                NaN                  NaN   \n",
       "1   Instructional        NaN                NaN                  NaN   \n",
       "\n",
       "  TotalMinorInjuries TotalUninjured WeatherCondition  BroadPhaseOfFlight  \\\n",
       "0                NaN            NaN              NaN                 NaN   \n",
       "1                NaN            2.0              VMC             LANDING   \n",
       "\n",
       "  ReportStatus PublicationDate  \n",
       "0  Preliminary             NaN  \n",
       "1  Preliminary      09/04/2015  \n",
       "\n",
       "[2 rows x 31 columns]"
      ]
     },
     "execution_count": 2,
     "metadata": {},
     "output_type": "execute_result"
    }
   ],
   "source": [
    "Aviation = pd.read_csv('/Users/hannahwu/Documents/data-scientist-exercise02/data/AviationData.csv')\n",
    "Aviation.head(2)"
   ]
  },
  {
   "cell_type": "code",
   "execution_count": 3,
   "id": "33126645",
   "metadata": {},
   "outputs": [
    {
     "data": {
      "text/html": [
       "<div>\n",
       "<style scoped>\n",
       "    .dataframe tbody tr th:only-of-type {\n",
       "        vertical-align: middle;\n",
       "    }\n",
       "\n",
       "    .dataframe tbody tr th {\n",
       "        vertical-align: top;\n",
       "    }\n",
       "\n",
       "    .dataframe thead th {\n",
       "        text-align: right;\n",
       "    }\n",
       "</style>\n",
       "<table border=\"1\" class=\"dataframe\">\n",
       "  <thead>\n",
       "    <tr style=\"text-align: right;\">\n",
       "      <th></th>\n",
       "      <th>Latitude</th>\n",
       "      <th>Longitude</th>\n",
       "      <th>NumberOfEngines</th>\n",
       "      <th>TotalFatalInjuries</th>\n",
       "      <th>TotalSeriousInjuries</th>\n",
       "      <th>TotalMinorInjuries</th>\n",
       "      <th>TotalUninjured</th>\n",
       "    </tr>\n",
       "  </thead>\n",
       "  <tbody>\n",
       "    <tr>\n",
       "      <th>count</th>\n",
       "      <td>23761.000000</td>\n",
       "      <td>23752.000000</td>\n",
       "      <td>73336.000000</td>\n",
       "      <td>55791.000000</td>\n",
       "      <td>53744.000000</td>\n",
       "      <td>54733.000000</td>\n",
       "      <td>65862.000000</td>\n",
       "    </tr>\n",
       "    <tr>\n",
       "      <th>mean</th>\n",
       "      <td>37.744819</td>\n",
       "      <td>-93.807654</td>\n",
       "      <td>1.149095</td>\n",
       "      <td>0.788962</td>\n",
       "      <td>0.309895</td>\n",
       "      <td>0.492555</td>\n",
       "      <td>5.716817</td>\n",
       "    </tr>\n",
       "    <tr>\n",
       "      <th>std</th>\n",
       "      <td>12.022069</td>\n",
       "      <td>39.510021</td>\n",
       "      <td>0.463222</td>\n",
       "      <td>6.087442</td>\n",
       "      <td>1.368488</td>\n",
       "      <td>2.779814</td>\n",
       "      <td>29.052413</td>\n",
       "    </tr>\n",
       "    <tr>\n",
       "      <th>min</th>\n",
       "      <td>-78.016945</td>\n",
       "      <td>-193.216667</td>\n",
       "      <td>0.000000</td>\n",
       "      <td>0.000000</td>\n",
       "      <td>0.000000</td>\n",
       "      <td>0.000000</td>\n",
       "      <td>0.000000</td>\n",
       "    </tr>\n",
       "    <tr>\n",
       "      <th>25%</th>\n",
       "      <td>33.416389</td>\n",
       "      <td>-115.134444</td>\n",
       "      <td>1.000000</td>\n",
       "      <td>0.000000</td>\n",
       "      <td>0.000000</td>\n",
       "      <td>0.000000</td>\n",
       "      <td>0.000000</td>\n",
       "    </tr>\n",
       "    <tr>\n",
       "      <th>50%</th>\n",
       "      <td>38.190555</td>\n",
       "      <td>-94.660555</td>\n",
       "      <td>1.000000</td>\n",
       "      <td>0.000000</td>\n",
       "      <td>0.000000</td>\n",
       "      <td>0.000000</td>\n",
       "      <td>1.000000</td>\n",
       "    </tr>\n",
       "    <tr>\n",
       "      <th>75%</th>\n",
       "      <td>42.572223</td>\n",
       "      <td>-81.761944</td>\n",
       "      <td>1.000000</td>\n",
       "      <td>1.000000</td>\n",
       "      <td>0.000000</td>\n",
       "      <td>1.000000</td>\n",
       "      <td>2.000000</td>\n",
       "    </tr>\n",
       "    <tr>\n",
       "      <th>max</th>\n",
       "      <td>89.218056</td>\n",
       "      <td>177.557778</td>\n",
       "      <td>24.000000</td>\n",
       "      <td>349.000000</td>\n",
       "      <td>111.000000</td>\n",
       "      <td>380.000000</td>\n",
       "      <td>699.000000</td>\n",
       "    </tr>\n",
       "  </tbody>\n",
       "</table>\n",
       "</div>"
      ],
      "text/plain": [
       "           Latitude     Longitude  NumberOfEngines  TotalFatalInjuries  \\\n",
       "count  23761.000000  23752.000000     73336.000000        55791.000000   \n",
       "mean      37.744819    -93.807654         1.149095            0.788962   \n",
       "std       12.022069     39.510021         0.463222            6.087442   \n",
       "min      -78.016945   -193.216667         0.000000            0.000000   \n",
       "25%       33.416389   -115.134444         1.000000            0.000000   \n",
       "50%       38.190555    -94.660555         1.000000            0.000000   \n",
       "75%       42.572223    -81.761944         1.000000            1.000000   \n",
       "max       89.218056    177.557778        24.000000          349.000000   \n",
       "\n",
       "       TotalSeriousInjuries  TotalMinorInjuries  TotalUninjured  \n",
       "count          53744.000000        54733.000000    65862.000000  \n",
       "mean               0.309895            0.492555        5.716817  \n",
       "std                1.368488            2.779814       29.052413  \n",
       "min                0.000000            0.000000        0.000000  \n",
       "25%                0.000000            0.000000        0.000000  \n",
       "50%                0.000000            0.000000        1.000000  \n",
       "75%                0.000000            1.000000        2.000000  \n",
       "max              111.000000          380.000000      699.000000  "
      ]
     },
     "execution_count": 3,
     "metadata": {},
     "output_type": "execute_result"
    }
   ],
   "source": [
    "Aviation.describe()"
   ]
  },
  {
   "cell_type": "code",
   "execution_count": 4,
   "id": "6705bb4a",
   "metadata": {},
   "outputs": [
    {
     "data": {
      "text/plain": [
       "EventId                     0\n",
       "InvestigationType           0\n",
       "AccidentNumber              0\n",
       "EventDate                   3\n",
       "Location                   81\n",
       "Country                   510\n",
       "Latitude                53496\n",
       "Longitude               53505\n",
       "AirportCode             33894\n",
       "AirportName             31163\n",
       "InjurySeverity            106\n",
       "AircraftDamage           2384\n",
       "AircraftCategory        60737\n",
       "RegistrationNumber       2759\n",
       "Make                       89\n",
       "Model                     118\n",
       "AmateurBuilt              654\n",
       "NumberOfEngines          3921\n",
       "EngineType               3209\n",
       "FARDescription          60592\n",
       "Schedule                65878\n",
       "PurposeOfFlight          3598\n",
       "AirCarrier              73439\n",
       "TotalFatalInjuries      21466\n",
       "TotalSeriousInjuries    23513\n",
       "TotalMinorInjuries      22524\n",
       "TotalUninjured          11395\n",
       "WeatherCondition         1989\n",
       "BroadPhaseOfFlight       6227\n",
       "ReportStatus                0\n",
       "PublicationDate         13188\n",
       "dtype: int64"
      ]
     },
     "execution_count": 4,
     "metadata": {},
     "output_type": "execute_result"
    }
   ],
   "source": [
    "Aviation.isnull().sum()"
   ]
  },
  {
   "cell_type": "code",
   "execution_count": 5,
   "id": "0b311b74",
   "metadata": {},
   "outputs": [
    {
     "data": {
      "text/plain": [
       "VMC    0.913589\n",
       "IMC    0.074135\n",
       "UNK    0.012276\n",
       "Name: WeatherCondition, dtype: float64"
      ]
     },
     "execution_count": 5,
     "metadata": {},
     "output_type": "execute_result"
    }
   ],
   "source": [
    "Aviation['WeatherCondition'].value_counts(normalize=True)\n",
    "# Most accidents occurred under VMC\n",
    "# Over 7% of accidents occurred under IMC"
   ]
  },
  {
   "cell_type": "code",
   "execution_count": 6,
   "id": "f4da3030",
   "metadata": {},
   "outputs": [
    {
     "data": {
      "text/plain": [
       "LANDING        0.261199\n",
       "TAKEOFF        0.207518\n",
       "CRUISE         0.149190\n",
       "MANEUVERING    0.133732\n",
       "APPROACH       0.105730\n",
       "TAXI           0.031818\n",
       "CLIMB          0.031325\n",
       "DESCENT        0.030297\n",
       "GO-AROUND      0.022103\n",
       "STANDING       0.016373\n",
       "UNKNOWN        0.008644\n",
       "OTHER          0.002070\n",
       "Name: BroadPhaseOfFlight, dtype: float64"
      ]
     },
     "execution_count": 6,
     "metadata": {},
     "output_type": "execute_result"
    }
   ],
   "source": [
    "Aviation['BroadPhaseOfFlight'].value_counts(normalize=True)\n",
    "# Close to half of accidents occurred during landing and takeoff"
   ]
  },
  {
   "cell_type": "code",
   "execution_count": 7,
   "id": "810e1b27",
   "metadata": {},
   "outputs": [
    {
     "data": {
      "text/plain": [
       "Personal                     0.588659\n",
       "Instructional                0.125877\n",
       "Unknown                      0.091829\n",
       "Aerial Application           0.058214\n",
       "Business                     0.052024\n",
       "Positioning                  0.020188\n",
       "Other Work Use               0.014852\n",
       "Ferry                        0.010426\n",
       "Public Use                   0.009598\n",
       "Aerial Observation           0.008757\n",
       "Executive/Corporate          0.006910\n",
       "Flight Test                  0.003964\n",
       "Air Race/Show                0.001806\n",
       "Skydiving                    0.001439\n",
       "Public Aircraft - Federal    0.001127\n",
       "Banner Tow                   0.001045\n",
       "External Load                0.001018\n",
       "Public Aircraft - State      0.000692\n",
       "Public Aircraft - Local      0.000665\n",
       "Glider Tow                   0.000543\n",
       "Fire Fighting                0.000258\n",
       "Air Drop                     0.000109\n",
       "Name: PurposeOfFlight, dtype: float64"
      ]
     },
     "execution_count": 7,
     "metadata": {},
     "output_type": "execute_result"
    }
   ],
   "source": [
    "Aviation['PurposeOfFlight'].value_counts(normalize=True)\n",
    "# Most flights involved in these accidents were for personal purposes."
   ]
  },
  {
   "cell_type": "code",
   "execution_count": 8,
   "id": "09346ff5",
   "metadata": {},
   "outputs": [
    {
     "data": {
      "text/plain": [
       "1.0     0.838129\n",
       "2.0     0.134368\n",
       "0.0     0.015436\n",
       "3.0     0.006504\n",
       "4.0     0.005536\n",
       "24.0    0.000014\n",
       "18.0    0.000014\n",
       "Name: NumberOfEngines, dtype: float64"
      ]
     },
     "execution_count": 8,
     "metadata": {},
     "output_type": "execute_result"
    }
   ],
   "source": [
    "Aviation['NumberOfEngines'].value_counts(normalize=True)\n",
    "# More than 80% of aircrafts involved in these accidents had just one engine"
   ]
  },
  {
   "cell_type": "code",
   "execution_count": 9,
   "id": "085dc00f",
   "metadata": {},
   "outputs": [],
   "source": [
    "# Event Date is string\n",
    "# Convert it to date\n",
    "\n",
    "# convert_to_date function to catch any value not conforming to specified format\n",
    "def convert_to_date(string):\n",
    "    try:\n",
    "        return datetime.strptime(string, '%m/%d/%Y')\n",
    "    except:\n",
    "        return None\n",
    "\n",
    "# Creating a date and a year variable\n",
    "Aviation['Date'] = Aviation['EventDate'].apply(lambda x: convert_to_date(x))\n",
    "Aviation['Year'] = Aviation['Date'].apply(lambda x: x.year)\n",
    "Aviation['Year'] = Aviation['Year'].astype('Int32')"
   ]
  },
  {
   "cell_type": "code",
   "execution_count": 10,
   "id": "f298769b",
   "metadata": {},
   "outputs": [
    {
     "data": {
      "text/plain": [
       "<AxesSubplot:title={'center':'Number of accidents over time'}>"
      ]
     },
     "execution_count": 10,
     "metadata": {},
     "output_type": "execute_result"
    },
    {
     "data": {
      "image/png": "[encoded data removed]",
      "text/plain": [
       "<Figure size 432x288 with 1 Axes>"
      ]
     },
     "metadata": {},
     "output_type": "display_data"
    }
   ],
   "source": [
    "# Check number of accidents over time\n",
    "accidents_over_time = Aviation['Year'].value_counts().sort_index()\n",
    "accidents_over_time.plot.line(title='Number of accidents over time')\n",
    "\n",
    "# The data covers the period mainly between 1982 and 2015\n",
    "# Airplane accidents went down substantially over time"
   ]
  },
  {
   "cell_type": "code",
   "execution_count": 11,
   "id": "06c0fe2d",
   "metadata": {},
   "outputs": [
    {
     "data": {
      "image/png": "[encoded data removed]",
      "text/plain": [
       "<Figure size 576x288 with 1 Axes>"
      ]
     },
     "metadata": {},
     "output_type": "display_data"
    }
   ],
   "source": [
    "# Annual total injuries over time by injury type\n",
    "\n",
    "pivot = pd.pivot_table(Aviation, index = ['Year'],\n",
    "              values = ['TotalFatalInjuries', 'TotalSeriousInjuries',\n",
    "                       'TotalMinorInjuries', 'TotalUninjured'],\n",
    "              aggfunc= [np.sum])\n",
    "pivot.plot(figsize=(8,4), title= 'Number of injuries per year by injury type')\n",
    "plt.xlabel('')\n",
    "plt.legend(title='')\n",
    "plt.show()\n",
    "\n",
    "# Most person involved in aviation accidents were uninjured\n",
    "# There was a spike of fatal injuries in 2008"
   ]
  },
  {
   "cell_type": "code",
   "execution_count": 12,
   "id": "0f30e1b6",
   "metadata": {},
   "outputs": [
    {
     "data": {
      "image/png": "[encoded data removed]",
      "text/plain": [
       "<Figure size 504x252 with 1 Axes>"
      ]
     },
     "metadata": {},
     "output_type": "display_data"
    }
   ],
   "source": [
    "# Annual total accidents in which the targeted type of injury > 0 \n",
    "\n",
    "pivot = pd.pivot_table(Aviation, index = ['Year'],\n",
    "              values = ['TotalFatalInjuries', 'TotalSeriousInjuries',\n",
    "                      'TotalMinorInjuries'],\n",
    "              aggfunc= lambda x: (x>0).sum())\n",
    "\n",
    "pivot.plot(figsize=(7,3.5),\n",
    "           title = 'Number of accidents per year with at least one injury by injury type')\n",
    "plt.xlabel('')\n",
    "plt.show()\n",
    "\n",
    "# Annual accidents that caused at least one injury of each type went down substantially over time."
   ]
  },
  {
   "cell_type": "code",
   "execution_count": 13,
   "id": "fd30b3dd",
   "metadata": {},
   "outputs": [
    {
     "data": {
      "image/png": "[encoded data removed]",
      "text/plain": [
       "<Figure size 432x288 with 2 Axes>"
      ]
     },
     "metadata": {},
     "output_type": "display_data"
    },
    {
     "data": {
      "text/plain": [
       "Index(['IMC', 'UNK', 'VMC'], dtype='object')"
      ]
     },
     "execution_count": 13,
     "metadata": {},
     "output_type": "execute_result"
    }
   ],
   "source": [
    "# Weather and fatal injuries\n",
    "\n",
    "pivot_weather = pd.pivot_table(Aviation, index = ['Year'],\n",
    "                              values = ['TotalFatalInjuries'],\n",
    "                              columns = ['WeatherCondition'],\n",
    "                              aggfunc= lambda x: (x>0).sum())\n",
    "pivot_weather.columns =[j for i, j in pivot_weather.columns]\n",
    "\n",
    "ax = sns.heatmap(pivot_weather, cmap='YlGnBu')\n",
    "plt.xlabel('')\n",
    "plt.title('Fatal Injuries by Weather')\n",
    "plt.show()\n",
    "pivot_weather.columns\n",
    "\n",
    "# Most accidents with fatal injuries occurred under VMC, when there was better visibility."
   ]
  },
  {
   "cell_type": "code",
   "execution_count": 14,
   "id": "835d8241",
   "metadata": {},
   "outputs": [],
   "source": [
    "# LOAD JSON FILES"
   ]
  },
  {
   "cell_type": "code",
   "execution_count": 16,
   "id": "5b6f5f79",
   "metadata": {},
   "outputs": [],
   "source": [
    "path_to_json = '/Users/hannahwu/Documents/data-scientist-exercise02/data/'\n",
    "# finding files ending with '.json' in the directory\n",
    "# storing names of all json files in a list\n",
    "json_files = [os.path.join(path_to_json,pos_json) for pos_json in os.listdir(path_to_json) if pos_json.endswith('.json')]"
   ]
  },
  {
   "cell_type": "code",
   "execution_count": 17,
   "id": "82dd1890",
   "metadata": {},
   "outputs": [],
   "source": [
    "# creating a dataframe to store all json files\n",
    "Narrative = pd.DataFrame()\n",
    "# using a list to temporarily store all data frames inside the loop to reduce time complexity\n",
    "temp = []\n",
    "# looping through all json files\n",
    "for js in json_files:\n",
    "    with open(js) as json_file:\n",
    "        json_text = json.load(json_file) # read as dict\n",
    "        df = pd.json_normalize(json_text, record_path='data') # flatten nested dict structure to data frame\n",
    "        temp.append(df) #append data frame to the list\n",
    "# after the loop, temp contains a list of 144 data frames\n",
    "# concatenating data frames in a single operation\n",
    "Narrative = pd.concat(temp)"
   ]
  },
  {
   "cell_type": "code",
   "execution_count": 18,
   "id": "5c85c787",
   "metadata": {},
   "outputs": [],
   "source": [
    "# Descrive info "
   ]
  },
  {
   "cell_type": "code",
   "execution_count": 19,
   "id": "57ce1e09",
   "metadata": {},
   "outputs": [
    {
     "data": {
      "text/plain": [
       "76133"
      ]
     },
     "execution_count": 19,
     "metadata": {},
     "output_type": "execute_result"
    }
   ],
   "source": [
    "len(Narrative)"
   ]
  },
  {
   "cell_type": "code",
   "execution_count": 20,
   "id": "d83adfd5",
   "metadata": {},
   "outputs": [
    {
     "data": {
      "text/html": [
       "<div>\n",
       "<style scoped>\n",
       "    .dataframe tbody tr th:only-of-type {\n",
       "        vertical-align: middle;\n",
       "    }\n",
       "\n",
       "    .dataframe tbody tr th {\n",
       "        vertical-align: top;\n",
       "    }\n",
       "\n",
       "    .dataframe thead th {\n",
       "        text-align: right;\n",
       "    }\n",
       "</style>\n",
       "<table border=\"1\" class=\"dataframe\">\n",
       "  <thead>\n",
       "    <tr style=\"text-align: right;\">\n",
       "      <th></th>\n",
       "      <th>EventId</th>\n",
       "      <th>narrative</th>\n",
       "      <th>probable_cause</th>\n",
       "    </tr>\n",
       "  </thead>\n",
       "  <tbody>\n",
       "    <tr>\n",
       "      <th>0</th>\n",
       "      <td>20100412X54138</td>\n",
       "      <td>NTSB investigators used data provided by vario...</td>\n",
       "      <td>The pilot's failure to maintain directional co...</td>\n",
       "    </tr>\n",
       "    <tr>\n",
       "      <th>1</th>\n",
       "      <td>20001212X22328</td>\n",
       "      <td>NTSB investigators may have traveled in suppor...</td>\n",
       "      <td>A total loss of engine power for undetermined ...</td>\n",
       "    </tr>\n",
       "    <tr>\n",
       "      <th>2</th>\n",
       "      <td>20001211X11810</td>\n",
       "      <td>NTSB investigators may not have traveled in su...</td>\n",
       "      <td>THE STUDENT PILOT'S FAILURE TO MAINTAIN AIRCR...</td>\n",
       "    </tr>\n",
       "    <tr>\n",
       "      <th>3</th>\n",
       "      <td>20001207X04295</td>\n",
       "      <td>NTSB investigators may not have traveled in su...</td>\n",
       "      <td>the accidental discharge of a spear gun by the...</td>\n",
       "    </tr>\n",
       "    <tr>\n",
       "      <th>4</th>\n",
       "      <td>20030827X01411</td>\n",
       "      <td>NTSB investigators may not have traveled in su...</td>\n",
       "      <td>The failure of the exhaust valve on the number...</td>\n",
       "    </tr>\n",
       "  </tbody>\n",
       "</table>\n",
       "</div>"
      ],
      "text/plain": [
       "          EventId                                          narrative  \\\n",
       "0  20100412X54138  NTSB investigators used data provided by vario...   \n",
       "1  20001212X22328  NTSB investigators may have traveled in suppor...   \n",
       "2  20001211X11810  NTSB investigators may not have traveled in su...   \n",
       "3  20001207X04295  NTSB investigators may not have traveled in su...   \n",
       "4  20030827X01411  NTSB investigators may not have traveled in su...   \n",
       "\n",
       "                                      probable_cause  \n",
       "0  The pilot's failure to maintain directional co...  \n",
       "1  A total loss of engine power for undetermined ...  \n",
       "2   THE STUDENT PILOT'S FAILURE TO MAINTAIN AIRCR...  \n",
       "3  the accidental discharge of a spear gun by the...  \n",
       "4  The failure of the exhaust valve on the number...  "
      ]
     },
     "execution_count": 20,
     "metadata": {},
     "output_type": "execute_result"
    }
   ],
   "source": [
    "Narrative.head()"
   ]
  },
  {
   "cell_type": "code",
   "execution_count": 21,
   "id": "96dc5b5d",
   "metadata": {},
   "outputs": [],
   "source": [
    "# Changing 'probable_cause' to all lower cases\n",
    "Narrative['probable_cause'] = Narrative['probable_cause'].str.lower()"
   ]
  },
  {
   "cell_type": "code",
   "execution_count": 22,
   "id": "73262c5d",
   "metadata": {},
   "outputs": [],
   "source": [
    "# If needed, we can replace empty string with NaN\n",
    "# Narrative.replace(r'^\\s*$', np.nan, regex=True, inplace = True)\n",
    "# Narrative.isnull().sum()"
   ]
  },
  {
   "cell_type": "code",
   "execution_count": 23,
   "id": "1bc21a1a",
   "metadata": {},
   "outputs": [],
   "source": [
    "# Merge data"
   ]
  },
  {
   "cell_type": "code",
   "execution_count": 24,
   "id": "799b1610",
   "metadata": {},
   "outputs": [
    {
     "data": {
      "text/html": [
       "<div>\n",
       "<style scoped>\n",
       "    .dataframe tbody tr th:only-of-type {\n",
       "        vertical-align: middle;\n",
       "    }\n",
       "\n",
       "    .dataframe tbody tr th {\n",
       "        vertical-align: top;\n",
       "    }\n",
       "\n",
       "    .dataframe thead th {\n",
       "        text-align: right;\n",
       "    }\n",
       "</style>\n",
       "<table border=\"1\" class=\"dataframe\">\n",
       "  <thead>\n",
       "    <tr style=\"text-align: right;\">\n",
       "      <th></th>\n",
       "      <th>EventId</th>\n",
       "      <th>narrative</th>\n",
       "      <th>probable_cause</th>\n",
       "      <th>InvestigationType</th>\n",
       "      <th>AccidentNumber</th>\n",
       "      <th>EventDate</th>\n",
       "      <th>Location</th>\n",
       "      <th>Country</th>\n",
       "      <th>Latitude</th>\n",
       "      <th>Longitude</th>\n",
       "      <th>...</th>\n",
       "      <th>TotalFatalInjuries</th>\n",
       "      <th>TotalSeriousInjuries</th>\n",
       "      <th>TotalMinorInjuries</th>\n",
       "      <th>TotalUninjured</th>\n",
       "      <th>WeatherCondition</th>\n",
       "      <th>BroadPhaseOfFlight</th>\n",
       "      <th>ReportStatus</th>\n",
       "      <th>PublicationDate</th>\n",
       "      <th>Date</th>\n",
       "      <th>Year</th>\n",
       "    </tr>\n",
       "  </thead>\n",
       "  <tbody>\n",
       "    <tr>\n",
       "      <th>0</th>\n",
       "      <td>20100412X54138</td>\n",
       "      <td>NTSB investigators used data provided by vario...</td>\n",
       "      <td>the pilot's failure to maintain directional co...</td>\n",
       "      <td>Accident</td>\n",
       "      <td>ERA10CA225</td>\n",
       "      <td>04/10/2010</td>\n",
       "      <td>Lakeland, FL</td>\n",
       "      <td>United States</td>\n",
       "      <td>27.988889</td>\n",
       "      <td>-82.017778</td>\n",
       "      <td>...</td>\n",
       "      <td>NaN</td>\n",
       "      <td>NaN</td>\n",
       "      <td>NaN</td>\n",
       "      <td>1.0</td>\n",
       "      <td>VMC</td>\n",
       "      <td>LANDING</td>\n",
       "      <td>Probable Cause</td>\n",
       "      <td>08/12/2010</td>\n",
       "      <td>2010-04-10</td>\n",
       "      <td>2010</td>\n",
       "    </tr>\n",
       "    <tr>\n",
       "      <th>1</th>\n",
       "      <td>20001212X22328</td>\n",
       "      <td>NTSB investigators may have traveled in suppor...</td>\n",
       "      <td>a total loss of engine power for undetermined ...</td>\n",
       "      <td>Accident</td>\n",
       "      <td>NYC01LA031</td>\n",
       "      <td>11/07/2000</td>\n",
       "      <td>MIDDLETOWN, NY</td>\n",
       "      <td>United States</td>\n",
       "      <td>NaN</td>\n",
       "      <td>NaN</td>\n",
       "      <td>...</td>\n",
       "      <td>0.0</td>\n",
       "      <td>1.0</td>\n",
       "      <td>1.0</td>\n",
       "      <td>0.0</td>\n",
       "      <td>VMC</td>\n",
       "      <td>TAKEOFF</td>\n",
       "      <td>Probable Cause</td>\n",
       "      <td>07/10/2001</td>\n",
       "      <td>2000-11-07</td>\n",
       "      <td>2000</td>\n",
       "    </tr>\n",
       "  </tbody>\n",
       "</table>\n",
       "<p>2 rows × 35 columns</p>\n",
       "</div>"
      ],
      "text/plain": [
       "          EventId                                          narrative  \\\n",
       "0  20100412X54138  NTSB investigators used data provided by vario...   \n",
       "1  20001212X22328  NTSB investigators may have traveled in suppor...   \n",
       "\n",
       "                                      probable_cause InvestigationType  \\\n",
       "0  the pilot's failure to maintain directional co...          Accident   \n",
       "1  a total loss of engine power for undetermined ...          Accident   \n",
       "\n",
       "  AccidentNumber   EventDate        Location        Country   Latitude  \\\n",
       "0     ERA10CA225  04/10/2010    Lakeland, FL  United States  27.988889   \n",
       "1     NYC01LA031  11/07/2000  MIDDLETOWN, NY  United States        NaN   \n",
       "\n",
       "   Longitude  ... TotalFatalInjuries TotalSeriousInjuries TotalMinorInjuries  \\\n",
       "0 -82.017778  ...                NaN                  NaN                NaN   \n",
       "1        NaN  ...                0.0                  1.0                1.0   \n",
       "\n",
       "  TotalUninjured WeatherCondition BroadPhaseOfFlight    ReportStatus  \\\n",
       "0            1.0              VMC            LANDING  Probable Cause   \n",
       "1            0.0              VMC            TAKEOFF  Probable Cause   \n",
       "\n",
       "  PublicationDate       Date  Year  \n",
       "0      08/12/2010 2010-04-10  2010  \n",
       "1      07/10/2001 2000-11-07  2000  \n",
       "\n",
       "[2 rows x 35 columns]"
      ]
     },
     "execution_count": 24,
     "metadata": {},
     "output_type": "execute_result"
    }
   ],
   "source": [
    "Merged = pd.merge(left = Narrative, right = Aviation, how='inner', left_on = 'EventId', right_on=\"EventId\")\n",
    "Merged.head(2)"
   ]
  },
  {
   "cell_type": "code",
   "execution_count": null,
   "id": "518df12f",
   "metadata": {},
   "outputs": [],
   "source": []
  },
  {
   "cell_type": "markdown",
   "id": "9e1d9bc0",
   "metadata": {},
   "source": [
    "# TOPIC MODELING"
   ]
  },
  {
   "cell_type": "code",
   "execution_count": 25,
   "id": "9e93533e",
   "metadata": {},
   "outputs": [],
   "source": [
    "## Narrative"
   ]
  },
  {
   "cell_type": "code",
   "execution_count": 26,
   "id": "56e51496",
   "metadata": {},
   "outputs": [
    {
     "data": {
      "text/plain": [
       "<77257x28187 sparse matrix of type '<class 'numpy.int64'>'\n",
       "\twith 4178013 stored elements in Compressed Sparse Row format>"
      ]
     },
     "execution_count": 26,
     "metadata": {},
     "output_type": "execute_result"
    }
   ],
   "source": [
    "# Apply CountVectorizer to create a document term matrix that records the frequencies of all terms appearing \n",
    "# in each document\n",
    "cv = CountVectorizer(max_df = 0.8, min_df = 2, stop_words = 'english')\n",
    "dtm = cv.fit_transform(Merged['narrative']) \n",
    "dtm #a sparse matrix"
   ]
  },
  {
   "cell_type": "code",
   "execution_count": 27,
   "id": "212cdf2a",
   "metadata": {},
   "outputs": [
    {
     "data": {
      "text/plain": [
       "(28187,)"
      ]
     },
     "execution_count": 27,
     "metadata": {},
     "output_type": "execute_result"
    }
   ],
   "source": [
    "# Apply LDA algorithm for topic modeling\n",
    "LDA = LatentDirichletAllocation(n_components = 5, random_state = 42)\n",
    "LDA.fit(dtm)\n",
    "# Grab the vocabulary of words\n",
    "cv.get_feature_names_out().shape"
   ]
  },
  {
   "cell_type": "code",
   "execution_count": 28,
   "id": "5099a298",
   "metadata": {},
   "outputs": [
    {
     "data": {
      "text/plain": [
       "(5, 28187)"
      ]
     },
     "execution_count": 28,
     "metadata": {},
     "output_type": "execute_result"
    }
   ],
   "source": [
    "# Grab the topics\n",
    "len(LDA.components_) # length = number of topics specified, which is 5\n",
    "type(LDA.components_) \n",
    "LDA.components_.shape"
   ]
  },
  {
   "cell_type": "code",
   "execution_count": 29,
   "id": "72bde3c3",
   "metadata": {},
   "outputs": [
    {
     "name": "stdout",
     "output_type": "stream",
     "text": [
      "THE TOP 20 WORDS FOR TOPIC #0\n",
      "['flight', 'takeoff', 'control', 'student', 'nose', 'wing', 'ground', 'did', 'stated', 'reported', 'gear', 'sources', 'traveled', 'right', 'left', 'provided', 'runway', 'landing', 'airplane', 'pilot']\n",
      "\n",
      "\n",
      "THE TOP 20 WORDS FOR TOPIC #1\n",
      "['did', 'work', 'degrees', 'significant', 'conducted', 'travel', 'obtained', 'altitude', 'weather', 'ground', 'approach', 'sources', 'traveled', 'reported', 'runway', 'airport', 'flight', 'feet', 'airplane', 'pilot']\n",
      "\n",
      "\n",
      "THE TOP 20 WORDS FOR TOPIC #2\n",
      "['revealed', 'operated', 'damage', 'conditions', 'passengers', 'incident', 'visual', 'injured', 'source', 'authority', 'foreign', 'rotor', 'crew', 'information', 'airport', 'pilot', 'airplane', 'time', 'helicopter', 'flight']\n",
      "\n",
      "\n",
      "THE TOP 20 WORDS FOR TOPIC #3\n",
      "['reported', 'lost', 'field', 'right', 'left', 'loss', 'forced', 'tank', 'flight', 'examination', 'revealed', 'provided', 'sources', 'traveled', 'landing', 'airplane', 'power', 'pilot', 'fuel', 'engine']\n",
      "\n",
      "\n",
      "THE TOP 20 WORDS FOR TOPIC #4\n",
      "['takeoff', 'aprx', 'stated', 'crashed', 'provided', 'arpt', 'travel', 'conducted', 'significant', 'investigative', 'work', 'eng', 'obtained', 'flt', 'rwy', 'ft', 'sources', 'traveled', 'plt', 'acft']\n",
      "\n",
      "\n"
     ]
    }
   ],
   "source": [
    "# Grab the highest probability words per topic\n",
    "# ARGSORT ---> INDEX POSITIONS SORTED FROM LEAST ---> GREATEST\n",
    "# TOP 20 VALUES = LAST 20 VALUES OF ARGSORT()\n",
    "for i, topic in enumerate(LDA.components_):\n",
    "    print(f\"THE TOP 20 WORDS FOR TOPIC #{i}\")\n",
    "    print([cv.get_feature_names_out()[index] for index in topic.argsort()[-20:]])\n",
    "    print('\\n')"
   ]
  },
  {
   "cell_type": "code",
   "execution_count": 30,
   "id": "9808db36",
   "metadata": {},
   "outputs": [],
   "source": [
    "# Corroborated these topics with some raw narrative texts\n",
    "# Commented out due to challenges with identifying the meaning of these topics\n",
    "# Also tried different N of topics. Didn't see a straightforward way to label these topics.\n",
    "\n",
    "# Merged['narr_topic'] = topic_results.argmax(axis=1)\n",
    "# Merged['narr_topic'].value_counts()\n",
    "# Merged[['narrative','narr_topic']].head(20)\n",
    "# Merged['narrative'][12]"
   ]
  },
  {
   "cell_type": "code",
   "execution_count": 31,
   "id": "4af5dbce",
   "metadata": {},
   "outputs": [
    {
     "data": {
      "text/plain": [
       "<77257x28187 sparse matrix of type '<class 'numpy.float64'>'\n",
       "\twith 4178013 stored elements in Compressed Sparse Row format>"
      ]
     },
     "execution_count": 31,
     "metadata": {},
     "output_type": "execute_result"
    }
   ],
   "source": [
    "# Apply NMF model instead \n",
    "tfidf = TfidfVectorizer(max_df = 0.8, min_df = 2, stop_words='english')\n",
    "dtm_nmf = tfidf.fit_transform(Merged['narrative'])\n",
    "dtm_nmf"
   ]
  },
  {
   "cell_type": "code",
   "execution_count": 32,
   "id": "de69daa1",
   "metadata": {},
   "outputs": [
    {
     "name": "stderr",
     "output_type": "stream",
     "text": [
      "/Users/hannahwu/opt/anaconda3/lib/python3.9/site-packages/sklearn/decomposition/_nmf.py:289: FutureWarning: The 'init' value, when 'init=None' and n_components is less than n_samples and n_features, will be changed from 'nndsvd' to 'nndsvda' in 1.1 (renaming of 0.26).\n",
      "  warnings.warn(\n"
     ]
    },
    {
     "data": {
      "text/plain": [
       "NMF(n_components=5, random_state=42)"
      ]
     },
     "execution_count": 32,
     "metadata": {},
     "output_type": "execute_result"
    }
   ],
   "source": [
    "nmf_model = NMF(n_components = 5, random_state = 42)\n",
    "nmf_model.fit(dtm_nmf)"
   ]
  },
  {
   "cell_type": "code",
   "execution_count": 33,
   "id": "c7153140",
   "metadata": {},
   "outputs": [
    {
     "name": "stdout",
     "output_type": "stream",
     "text": [
      "THE TOP 15 WORDS FOR TOPIC #0\n",
      "['operator', 'aviation', 'federal', 'administration', 'provided', 'did', 'wing', 'reported', 'right', 'gear', 'left', 'landing', 'pilot', 'runway', 'airplane']\n",
      "\n",
      "\n",
      "THE TOP 15 WORDS FOR TOPIC #1\n",
      "['revealed', 'right', 'pump', 'lost', 'loss', 'pilot', 'landing', 'selector', 'forced', 'gallons', 'power', 'tanks', 'engine', 'tank', 'fuel']\n",
      "\n",
      "\n",
      "THE TOP 15 WORDS FOR TOPIC #2\n",
      "['stated', 'takeoff', 'left', 'arpt', 'provided', 'landing', 'gear', 'sources', 'traveled', 'eng', 'flt', 'ft', 'rwy', 'plt', 'acft']\n",
      "\n",
      "\n",
      "THE TOP 15 WORDS FOR TOPIC #3\n",
      "['weather', 'terrain', 'conditions', 'obtained', 'examination', 'conducted', 'altitude', 'time', 'power', 'airport', 'feet', 'pilot', 'flight', 'engine', 'airplane']\n",
      "\n",
      "\n",
      "THE TOP 15 WORDS FOR TOPIC #4\n",
      "['skid', 'rpm', 'flight', 'rolled', 'blades', 'main', 'autorotation', 'collective', 'student', 'ground', 'instructor', 'pilot', 'tail', 'rotor', 'helicopter']\n",
      "\n",
      "\n"
     ]
    }
   ],
   "source": [
    "# Grab the highest probability words per topic\n",
    "for i, topic in enumerate(nmf_model.components_):\n",
    "    print(f\"THE TOP 15 WORDS FOR TOPIC #{i}\")\n",
    "    print([tfidf.get_feature_names_out()[index] for index in topic.argsort()[-15:]])\n",
    "    print('\\n')"
   ]
  },
  {
   "cell_type": "code",
   "execution_count": 34,
   "id": "7a036358",
   "metadata": {},
   "outputs": [
    {
     "data": {
      "text/plain": [
       "runway_landing_takeoff    0.481018\n",
       "engine_weather            0.363177\n",
       "fuel_related              0.089170\n",
       "helicopter                0.066635\n",
       "Name: narr_topic_label, dtype: float64"
      ]
     },
     "execution_count": 34,
     "metadata": {},
     "output_type": "execute_result"
    }
   ],
   "source": [
    "# Merge topic results with main dataset\n",
    "topic_results_nmf = nmf_model.transform(dtm)\n",
    "Merged['narr_topic'] = topic_results_nmf.argmax(axis=1)\n",
    "\n",
    "# Again, tried to understand the meaning of topics and manually checked some narrative texts\n",
    "Merged[['narrative','narr_topic']].head(20)\n",
    "Merged['narrative'][5]\n",
    "\n",
    "# Created labels and attached to dataset\n",
    "label_narr = ['runway_landing_takeoff','fuel_related', 'runway_landing_takeoff','engine_weather',\n",
    "              'helicopter']\n",
    "for i in range(5):\n",
    "    Merged.loc[Merged['narr_topic'] == i, 'narr_topic_label']  = label_narr[i]\n",
    "\n",
    "# Topic frequency distribution\n",
    "Merged['narr_topic_label'].value_counts(normalize=True)"
   ]
  },
  {
   "cell_type": "markdown",
   "id": "15199209",
   "metadata": {},
   "source": [
    "# Summary on Narratives\n",
    "Narrative texts presented some challenges with identifying topics. Different numbers of topic groups were tried, however, several groups shared similar lists of highest frequency words. It was difficult to understand the meanings of different groups. \n",
    "\n",
    "The NMF model generated somewhat more easily interpretable topic groups than the LDA model. Overall, it appears that most narratives revolved around runway situations, landing and takeoff. A substantial portion also focused on engine and weather conditions.\n",
    "\n",
    "About 9% seemed to be fuel-related. About 7% likely involved helicopter. "
   ]
  },
  {
   "cell_type": "code",
   "execution_count": 35,
   "id": "5f7d9923",
   "metadata": {},
   "outputs": [],
   "source": [
    "### PROBABLE CAUSE"
   ]
  },
  {
   "cell_type": "code",
   "execution_count": 36,
   "id": "620e4376",
   "metadata": {},
   "outputs": [
    {
     "data": {
      "text/plain": [
       "LatentDirichletAllocation(n_components=5, random_state=42)"
      ]
     },
     "execution_count": 36,
     "metadata": {},
     "output_type": "execute_result"
    }
   ],
   "source": [
    "# LDA\n",
    "# Different numbers of topic were tested. Five appeared reasonable.\n",
    "cv_pc = CountVectorizer(max_df = 0.9, min_df = 2, stop_words = 'english')\n",
    "dtm_pc = cv_pc.fit_transform(Merged['probable_cause']) #a sparse matrix\n",
    "LDA_pc = LatentDirichletAllocation(n_components = 5, random_state = 42)\n",
    "LDA_pc.fit(dtm_pc)"
   ]
  },
  {
   "cell_type": "code",
   "execution_count": 37,
   "id": "497ba1c2",
   "metadata": {},
   "outputs": [
    {
     "name": "stdout",
     "output_type": "stream",
     "text": [
      "THE TOP 15 WORDS FOR TOPIC #0\n",
      "['starvation', 'flight', 'carburetor', 'landing', 'preflight', 'improper', 'failure', 'exhaustion', 'resulted', 'inadequate', 'loss', 'engine', 'power', 'pilot', 'fuel']\n",
      "\n",
      "\n",
      "THE TOP 15 WORDS FOR TOPIC #1\n",
      "['factor', 'aircraft', 'low', 'contributing', 'lack', 'terrain', 'conditions', 'clearance', 'factors', 'altitude', 'accident', 'flight', 'maintain', 'failure', 'pilot']\n",
      "\n",
      "\n",
      "THE TOP 15 WORDS FOR TOPIC #2\n",
      "['contributing', 'accident', 'resulted', 'forced', 'terrain', 'factor', 'maintenance', 'gear', 'reasons', 'landing', 'undetermined', 'failure', 'power', 'loss', 'engine']\n",
      "\n",
      "\n",
      "THE TOP 15 WORDS FOR TOPIC #3\n",
      "['student', 'runway', 'factor', 'takeoff', 'stall', 'improper', 'airspeed', 'airplane', 'resulted', 'directional', 'maintain', 'control', 'failure', 'landing', 'pilot']\n",
      "\n",
      "\n",
      "THE TOP 15 WORDS FOR TOPIC #4\n",
      "['decision', 'compensation', 'takeoff', 'terrain', 'contributing', 'runway', 'factor', 'failure', 'wind', 'accident', 'factors', 'conditions', 'flight', 'inadequate', 'pilot']\n",
      "\n",
      "\n"
     ]
    }
   ],
   "source": [
    "# Grab the highest probability words per topic\n",
    "for i, topic in enumerate(LDA_pc.components_):\n",
    "    print(f\"THE TOP 15 WORDS FOR TOPIC #{i}\")\n",
    "    print([cv_pc.get_feature_names_out()[index] for index in topic.argsort()[-15:]])\n",
    "    print('\\n')"
   ]
  },
  {
   "cell_type": "code",
   "execution_count": 38,
   "id": "54b3f2f4",
   "metadata": {},
   "outputs": [
    {
     "data": {
      "text/plain": [
       "engine_related    0.570045\n",
       "pilot_error       0.327414\n",
       "weather           0.102541\n",
       "Name: pc_topic_label, dtype: float64"
      ]
     },
     "execution_count": 38,
     "metadata": {},
     "output_type": "execute_result"
    }
   ],
   "source": [
    "# Merging topic results with main dataset\n",
    "topic_results_pc = LDA_pc.transform(dtm_pc)\n",
    "Merged['pc_topic']=topic_results_pc.argmax(axis=1)\n",
    "\n",
    "# Creating label and attaching to main dataset\n",
    "label = ['engine_related','pilot_error', 'engine_related','pilot_error','weather']\n",
    "for i in range(5):\n",
    "    Merged.loc[Merged['pc_topic'] == i, 'pc_topic_label']  = label[i]\n",
    "\n",
    "# Probable cause topic frequency distribution\n",
    "Merged['pc_topic_label'].value_counts(normalize=True)"
   ]
  },
  {
   "cell_type": "markdown",
   "id": "bbb6d133",
   "metadata": {},
   "source": [
    "# Summary on probable cause\n",
    "\n",
    "Probable cause showed more differentiable topic groups in the LDA model.\n",
    "\n",
    "The probable cause for more than half of accidents seemed to be engine related.\n",
    "\n",
    "Another third of accidents appeared to be associated with pilot operations.\n",
    "\n",
    "Finally, over 10% of accidents involved potential inadequent flight conditions"
   ]
  },
  {
   "cell_type": "code",
   "execution_count": 39,
   "id": "ddac5a2d",
   "metadata": {},
   "outputs": [
    {
     "data": {
      "text/plain": [
       "<matplotlib.legend.Legend at 0x7fed482dcc10>"
      ]
     },
     "execution_count": 39,
     "metadata": {},
     "output_type": "execute_result"
    },
    {
     "data": {
      "image/png": "[encoded data removed]",
      "text/plain": [
       "<Figure size 504x288 with 1 Axes>"
      ]
     },
     "metadata": {},
     "output_type": "display_data"
    }
   ],
   "source": [
    "# Changes in the use of words/topics in narrative over time\n",
    "\n",
    "Merged['c'] = 1\n",
    "narrative_over_time = pd.pivot_table(Merged, index = ['Year'],\n",
    "                                     values=['c'],\n",
    "                                      columns = ['narr_topic_label'],\n",
    "                                      aggfunc= 'count')\n",
    "ax = narrative_over_time.plot.line(title='Narrative topics over time', figsize=(7,4))\n",
    "my_labels = ['Engine and Weather', 'Fuel Related', 'Helicopter', 'Runway, Landing, and Takeoff']\n",
    "ax.legend(labels = my_labels)"
   ]
  },
  {
   "cell_type": "code",
   "execution_count": 40,
   "id": "68dabe66",
   "metadata": {},
   "outputs": [
    {
     "data": {
      "text/plain": [
       "<matplotlib.legend.Legend at 0x7fed8a57af40>"
      ]
     },
     "execution_count": 40,
     "metadata": {},
     "output_type": "execute_result"
    },
    {
     "data": {
      "image/png": "[encoded data removed]",
      "text/plain": [
       "<Figure size 504x288 with 1 Axes>"
      ]
     },
     "metadata": {},
     "output_type": "display_data"
    }
   ],
   "source": [
    "# Changes in probabl cause over time\n",
    "\n",
    "pc_over_time = pd.pivot_table(Merged, index = ['Year'],\n",
    "                                     values=['c'],\n",
    "                                      columns = ['pc_topic_label'],\n",
    "                                      aggfunc= 'count')\n",
    "ax = pc_over_time.plot.line(title='Probable cause topics over time', figsize=(7,4))\n",
    "my_labels = ['Engine Related', 'Pilot Related', 'Weather related']\n",
    "ax.legend(labels = my_labels)"
   ]
  },
  {
   "attachments": {},
   "cell_type": "markdown",
   "id": "640a30da",
   "metadata": {},
   "source": [
    "# Summary of the Aviation Accidents data analysis\n",
    "\n",
    "The dataset contains a set of variables describing the situational and factual factors associated with each aviation accident predominantly between 1982 and 2015. A separate set of datasets contains the narrative attached to each accident and its probable cause. These were joined to the main dataset.\n",
    "\n",
    "The exploratory analyses showed several patterns in the accident data. For example, more than 90% of accidents occurred in visual meteorological conditions (VMC), when the visibility condition was adequate. Close to half of accidents occurred during landing and takeoff, whereas about 28% occurred while cruising or maneuvering. In more than 80% of accidents, the aircraft involved had only one engine. \n",
    "\n",
    "When looking at the trends of aviation accidents over time, I observed that the number of accidents per year has been decreasing substantially during the examined time period, from more than 3,500 accidents in 1982 to less than 1000 in 2015. It is conceivable that aviation safety has enhanced tremendously over time given improvement in technology, regulations, training, and flying practices. The same downward trend was observed when breaking down accidents that resulted in different types of injuries, including fatal, serious, and minor injuries. Most people involved in these accidents were uninjured, however, when people were injured, they were more likely to be fatally injured. These patterns were presented with several charts. \n",
    "\n",
    "Next, I applied topic modeling analyses to the narrative text and probable cause text. Two types of models were applied to the dataset for topic extraction, including the Latent Dirichlet Allocation (LDA) algorithm which calculates the probability of each accident falling under a mixture of distinct categories, and the non-negative matrix factorization (NMF) which calculates the coefficient of each topic in relation to each document. Both require a prespecified number of topic groups to be extracted. The words in the text were first counted and used to create a document term matrix which records the frequencies of each word appearing in each document. I specified to remove any words that showed up in more than 80% (for narrative) or 90% (for probable cause) of documents or showed up only once. After experimenting with different numbers of topic groups, models, and adjusting other parameters, I settled with 5 topic groups for Narratives and Probable Cause, respectively. These groups were further reduced during interpretation into 4 groups for Narratives and 3 groups for Probable Cause. \n",
    "\n",
    "For Narratives’ topics, about 48% of accidents involved situations around runway, landing, and takeoff. This aligns with my earlier observation that accidents were most likely to happen during landing and takeoff. About 36% involved engine-related factors and weather conditions. According to the Swiss Cheese Model (Reason et al., 2006), it is common for aviation accidents to involve multiple reasons. About 9% of accidents were fuel-related, and about 7% of accidents likely involved helicopters.\n",
    "\n",
    "For topics of Probable Cause, about 57% of accidents were related to engine losing power, insufficient fuel, and other failures. About 33% of accidents appeared to be predominantly pilot-related, potentially involving failure to control or maintain the aircraft properly. Finally, about 10% of accidents focused on inadequate flight conditions. \n",
    "\n",
    "When looking at topics over time, I observed that runway, landing, and takeoff related narratives have decreased largely over time, whereas engine and weather related narratives have become the most dominant topic after the 1990s. It is possible that accidents during landing and takeoff were much more likely to occur in early years. For probable cause, I saw that prior to late 1980s, engine, fuel, and mechanics related causes were the only focal topic in probable cause. After that, pilot and weather related factors were able to be extracted. This likely has to do with changes in how probable cause was determined or recorded over time. \n",
    "\n",
    "Reference\n",
    "Reason, J., Hollnagel, E., & Paries, J. (2006). Revisiting the Swiss cheese model of accidents. Journal of Clinical Engineering, 27(4), 110-115."
   ]
  },
  {
   "cell_type": "code",
   "execution_count": null,
   "id": "3f1c6f48",
   "metadata": {},
   "outputs": [],
   "source": []
  }
 ],
 "metadata": {
  "kernelspec": {
   "display_name": "Python 3 (ipykernel)",
   "language": "python",
   "name": "python3"
  },
  "language_info": {
   "codemirror_mode": {
    "name": "ipython",
    "version": 3
   },
   "file_extension": ".py",
   "mimetype": "text/x-python",
   "name": "python",
   "nbconvert_exporter": "python",
   "pygments_lexer": "ipython3",
   "version": "3.9.12"
  }
 },
 "nbformat": 4,
 "nbformat_minor": 5
}
